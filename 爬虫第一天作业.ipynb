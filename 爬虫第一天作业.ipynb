{
 "cells": [
  {
   "cell_type": "markdown",
   "metadata": {},
   "source": [
    "**使用requests+xpath爬取高校排名网站的三组数据**"
   ]
  },
  {
   "cell_type": "code",
   "execution_count": 1,
   "metadata": {},
   "outputs": [],
   "source": [
    "import requests\n",
    "from lxml import etree\n",
    "url = 'http://www.zuihaodaxue.cn/zuihaodaxuepaiming2018.html'\n",
    "r = requests.get(url)\n",
    "r.encoding=r.apparent_encoding\n",
    "data = r.text\n",
    "s = etree.HTML(data)\n",
    "\n",
    "#print(r.encoding)\n",
    "print(r.text)#测试代码"
   ]
  },
  {
   "cell_type": "code",
   "execution_count": 2,
   "metadata": {},
   "outputs": [],
   "source": [
    "#测试爬虫\n",
    "#file = s.xpath('/html/body/div[3]/div/div[2]/div/div[3]/div/table/tbody/tr/td[2]/div/text()')\n",
    "#print(file)测试代码"
   ]
  },
  {
   "cell_type": "markdown",
   "metadata": {},
   "source": [
    " **排名规律**\n",
    "\n",
    "/html/body/div[3]/div/div[2]/div/div[3]/div/table/tbody/tr[1]/td[1]\n",
    "\n",
    "/html/body/div[3]/div/div[2]/div/div[3]/div/table/tbody/tr[2]/td[1]"
   ]
  },
  {
   "cell_type": "code",
   "execution_count": 3,
   "metadata": {},
   "outputs": [],
   "source": [
    "#测试排名爬取结果\n",
    "#rank = s.xpath('/html/body/div[3]/div/div[2]/div/div[3]/div/table/tbody/tr/td[1]/text()')\n",
    "#print(rank)"
   ]
  },
  {
   "cell_type": "markdown",
   "metadata": {},
   "source": [
    "**学校规律**\n",
    "\n",
    "/html/body/div[3]/div/div[2]/div/div[3]/div/table/tbody/tr[1]/td[2]/div\n",
    "\n",
    "/html/body/div[3]/div/div[2]/div/div[3]/div/table/tbody/tr[2]/td[2]/div"
   ]
  },
  {
   "cell_type": "code",
   "execution_count": 4,
   "metadata": {},
   "outputs": [],
   "source": [
    "#测试学校爬取结果\n",
    "#school = s.xpath('/html/body/div[3]/div/div[2]/div/div[3]/div/table/tbody/tr/td[2]/div/text()')\n",
    "#print(school)"
   ]
  },
  {
   "cell_type": "markdown",
   "metadata": {},
   "source": [
    "**分数规律**\n",
    "\n",
    "/html/body/div[3]/div/div[2]/div/div[3]/div/table/tbody/tr[1]/td[4]\n",
    "\n",
    "/html/body/div[3]/div/div[2]/div/div[3]/div/table/tbody/tr[2]/td[4]"
   ]
  },
  {
   "cell_type": "code",
   "execution_count": 5,
   "metadata": {},
   "outputs": [],
   "source": [
    "#测试分数爬取结果\n",
    "#score = s.xpath('/html/body/div[3]/div/div[2]/div/div[3]/div/table/tbody/tr/td[4]/text()')\n",
    "#print(score)"
   ]
  },
  {
   "cell_type": "code",
   "execution_count": 6,
   "metadata": {},
   "outputs": [
    {
     "name": "stdout",
     "output_type": "stream",
     "text": [
      "排名：1 学校名称：清华大学 总分：95.3\n",
      "排名：2 学校名称：北京大学 总分：78.6\n",
      "排名：3 学校名称：浙江大学 总分：73.9\n",
      "排名：4 学校名称：上海交通大学 总分：73.1\n",
      "排名：5 学校名称：复旦大学 总分：66.0\n",
      "排名：6 学校名称：中国科学技术大学 总分：61.9\n",
      "排名：7 学校名称：南京大学 总分：59.8\n",
      "排名：8 学校名称：华中科技大学 总分：59.1\n",
      "排名：9 学校名称：中山大学 总分：58.6\n",
      "排名：10 学校名称：哈尔滨工业大学 总分：57.4\n",
      "排名：11 学校名称：同济大学 总分：56.4\n",
      "排名：12 学校名称：武汉大学 总分：55.5\n",
      "排名：13 学校名称：东南大学 总分：55.3\n",
      "排名：14 学校名称：西安交通大学 总分：54.2\n",
      "排名：15 学校名称：北京航空航天大学 总分：54.0\n"
     ]
    }
   ],
   "source": [
    "#运行爬虫，爬取1-15个学校排名，学校名称，总分的数据\n",
    "file = s.xpath('/html/body/div[3]/div/div[2]/div/div[3]/div/table/tbody')\n",
    "for div in file:\n",
    "    rank = div.xpath('./tr/td[1]/text()')\n",
    "    school = div.xpath('./tr/td[2]/div/text()')\n",
    "    score = div.xpath('./tr/td[4]/text()')\n",
    "for i in range(15):\n",
    "    print('排名：{} 学校名称：{} 总分：{}'.format(rank[i], school[i], score[i]))\n"
   ]
  }
 ],
 "metadata": {
  "kernelspec": {
   "display_name": "Python 3",
   "language": "python",
   "name": "python3"
  },
  "language_info": {
   "codemirror_mode": {
    "name": "ipython",
    "version": 3
   },
   "file_extension": ".py",
   "mimetype": "text/x-python",
   "name": "python",
   "nbconvert_exporter": "python",
   "pygments_lexer": "ipython3",
   "version": "3.6.6"
  }
 },
 "nbformat": 4,
 "nbformat_minor": 2
}
